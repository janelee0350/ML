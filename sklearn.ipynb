{
 "cells": [
  {
   "cell_type": "code",
   "execution_count": null,
   "metadata": {
    "collapsed": true
   },
   "outputs": [],
   "source": [
    "##import packages\n",
    "\n",
    "import numpy as np\n",
    "import pandas as pd"
   ]
  },
  {
   "cell_type": "code",
   "execution_count": null,
   "metadata": {
    "collapsed": true
   },
   "outputs": [],
   "source": [
    "#define a class including all parameters\n",
    "#本模块将所有可能用到的参数都在程序开头用类的形式加以定义，类名为 Para。\n",
    "\n",
    "class Para:\n",
    "    method = 'SVM' ##or 其他方法\n",
    "    month_in_sample = range(82, 153 + 1) ##return 82~153 ,72 months,样本内数据对应月份\n",
    "    month_test = range(154, 230 + 1) ##return 154~230,77 month，样本外数据对应月份\n",
    "    percent_select = [0.3, 0.3] ##股票池中选 30% 正样本，30% 负样本\n",
    "    percent_cv = 0.1 ## 10%交叉验证样本（即十折交叉验证）\n",
    "    path_data = '.\\\\csv_demo\\\\'\n",
    "    path_results = '.\\\\results_demo\\\\'\n",
    "    seed = 43 #随机种子\n",
    "    svm_kernel = 'linear' ##svm参数，线性核 \n",
    "    ##（poly:多项式核（3阶默认）；sigmoid：Sigmoid核；rbf：高斯核）\n",
    "    svm_c = 0.01 ##svm参数，svm的惩罚系数C\n",
    "    \n",
    "Para = Para()\n"
   ]
  },
  {
   "cell_type": "code",
   "execution_count": null,
   "metadata": {
    "collapsed": true
   },
   "outputs": [],
   "source": [
    "#label data\n",
    "#输入全部样本，选择超额收益最高和最低的部分样本，分别标记为1和0\n",
    "#再将未被标记的样本剔除， 返回标记完成的样本\n",
    "def label_data(data):\n",
    "    #initialize\n",
    "    data['return_bin'] = np.nan\n",
    "    #sort by excess return\n",
    "    data = data.sort_values[by='return', ascending=False]\n",
    "    #decide how much stocks will be selected\n",
    "    n_stock_select = np.multiply(para.percent_select, data.shape[0])\n",
    "    n_stock_select = np.around(n_stock_select).astype(int) #股票数量需是整数\n",
    "    #assign 1 or 0\n",
    "    data.iloc[0: n_stock_select[0], -1] = 1\n",
    "    data.iloc[-n_stock_select[0]:, -1] = 0\n",
    "    #remove other stocks\n",
    "    data = data.dropna(axis = 0)\n",
    "return data\n",
    "    "
   ]
  },
  {
   "cell_type": "code",
   "execution_count": null,
   "metadata": {
    "collapsed": true
   },
   "outputs": [],
   "source": [
    "#generate in-sample data\n",
    "#将数据按月份顺序逐个导入内存，并将所有月份数据拼接成一个大的dataframe\n",
    "for i_month in para.month_in_sample:\n",
    "    #load scv\n",
    "    file_name = para.path_data + str(i_month) + '.csv'\n",
    "    data_curr_month = pd.read_csv(file_name, header = 0)\n",
    "    para.n_stock = data_curr_month.shape[0]\n",
    "    #remove nan\n",
    "    data_curr_month = data_curr_month.dropna(axis = 0)\n",
    "    #label data\n",
    "    data_curr_month = label_data(data_curr_month)\n",
    "    #merge\n",
    "    if i_month == pata.month_in_sample[0]:\n",
    "        data_in_sample = data_curr_month\n",
    "    else:\n",
    "        data_in_sample = data_in_sample.append(data_curr_month)\n",
    "        \n"
   ]
  },
  {
   "cell_type": "code",
   "execution_count": null,
   "metadata": {
    "collapsed": true
   },
   "outputs": [],
   "source": [
    "#数据预处理\n",
    "#将样本内集合切分成训练集和交叉验证集， 并通过主成分分析进行降维以及去除因\n",
    "#子共线性。最后得到四个数组，其中 X_train 与 y_train 为训练集的特征和标签， \n",
    "#X_cv 与y_cv 为交叉验证集的特征和标签。\n",
    "X_in_sample = data_in_sample.loc[:, 'EP': 'bias']\n",
    "y_in_sample = data_in_sample.loc[:, 'return_bin']\n",
    "#取 DataFrame 中的 return_bin 列作为样本内集合的标签 y\n",
    "form sklearn.model_selection import train_test_split\n",
    "X_train, X_cv, y_train, y_cv = train_test_split(X_in_sample, y_in_sample, test_size = para.percent_cv,\n",
    "                                               random_state = para.seed)\n",
    "\n",
    "#pca\n",
    "from sklearn import decomposition\n",
    "pca = decomposition.PCA(n_components = 0.95)\n",
    "# PCA模型取相应比例的主成分数量，default = 0.95;\n",
    "# 当 n_components 为正整数时， PCA 模型取相应数目的主成分\n",
    "pca.fit(X_train)\n",
    "X_train = pca.transform(X_train)\n",
    "X_cv = pca.transform(X_cv)\n",
    "\n",
    "## for regression\n",
    "#y_in_sample = data_in_sample.loc[:, 'return']\n",
    "#直接取DataFrame中的return列\n",
    "\n",
    "\n",
    "#数据标准化\n",
    "from sklearn import preprocessing\n",
    "scaler = preprocessing.StandardScaler().fit(X_trian)\n",
    "X_train = scaler.transform(X_train)\n",
    "X_cv = scaler.transform(X_cv)\n"
   ]
  },
  {
   "cell_type": "code",
   "execution_count": null,
   "metadata": {
    "collapsed": true
   },
   "outputs": [],
   "source": [
    "#模型设置\n",
    "## SVM\n",
    "if prar.method == 'SVM':\n",
    "    from sklearn import svm\n",
    "    model = svm.SVM(kernel = para.svm_kernel, C = para.svm_c)\n",
    "    \n",
    "\n",
    "    \n",
    "## linear regression\n",
    "if para.method == 'LR':\n",
    "    from sklearn import linear_model\n",
    "    model = linear_model.LinearRegression(fit_intercept = True)\n",
    "    \n",
    "    \n",
    "    \n",
    "    \n",
    "    \n",
    "## SGD + hinge\n",
    "if pata.method == 'SGD':\n",
    "    from sklearn import linear_model\n",
    "    model = linear_model.SGDClassifier(loss = 'hinge', alpha = 0.0001, penalty = 'l2',\n",
    "                                      max_iter = 5, random_state = para.seed)\n",
    "        "
   ]
  },
  {
   "cell_type": "code",
   "execution_count": null,
   "metadata": {
    "collapsed": true
   },
   "outputs": [],
   "source": [
    "##模型训练\n",
    "##对分类模型\n",
    "if para.method == 'SVM':\n",
    "    model.fit(X_train, y_train)\n",
    "    y_pred_train = model.predict(X_train)\n",
    "    y_score_train = model.decision_function(X_trian)\n",
    "    y_pre_cv = model.predict(X_cv)\n",
    "    y_score_cv = model.decision_function(X_cv)\n",
    "    \n",
    "if para.method == 'SGD': #同SVM\n",
    "    model.fit(X_train, y_train)\n",
    "    y_pred_train = model.predict(X_train)\n",
    "    y_score_train = model.decision_function(X_trian)\n",
    "    y_pre_cv = model.predict(X_cv)\n",
    "    y_score_cv = model.decision_function(X_cv)\n",
    "    \n",
    "    \n",
    "##对回归模型\n",
    "if pata.method == 'LR':\n",
    "    model.fit(X_train, y_train)\n",
    "    y_score_train = model.predict(X_train)\n",
    "    y_score_cv = model.predict(X_cv)\n",
    "    \n"
   ]
  },
  {
   "cell_type": "code",
   "execution_count": null,
   "metadata": {
    "collapsed": true
   },
   "outputs": [],
   "source": [
    "##模型预测\n",
    "#本模块使用训练完成的模型在测试集上做预测\n",
    "#首先， 创建三个空数据集 y_true_test、y_pred_test 和 y_score_test， \n",
    "#分别用于存储预测集上的真实收益、预测标签和预测的决策函数值。 \n",
    "#随后对测试集中的每个月进行预测，使用 for 循环遍历测试集的每个月。\n",
    "# initialize\n",
    "y_true_test = pd.DataFrame([np.nan] * np.ones((para.n_stock, para.month_test[-1])))\n",
    "y_pred_test = pd.DataFrame([np.nan] * np.ones((para.n_stock, para.month_test[-1])))\n",
    "y_score_test = pd.DataFrame([np.nan] * np.ones((para.n_stock, para.month_test[-1])))\n",
    "\n",
    "# loop for month\n",
    "for i_month in para.month_test:\n",
    "    file_name = para.path_data + str(i_month) + '.scv'\n",
    "    data_curr_month = pd.read_csv(file_name, header = 0)\n",
    "    data_curr_month = data_curr_month.dropna(axis = 0) #remove nan\n",
    "    X_curr_month = data_curr_month.loc[:, 'EP' : 'bias'] #generate X\n",
    "    X_curr_month = pca.transform(X_curr_month) #pca\n",
    "    \n",
    "    #predict and get decision function\n",
    "    if para.method == 'SVM':\n",
    "        y_pred_curr_month = model.predict(X_curr_month)\n",
    "        Y_score_curr_month = model.decision_function(X_curr_month)\n",
    "        \n",
    "    # save true and predicted return\n",
    "    y_true_test.iloc[data_curr_month.index, i_month-1] = data_curr_month['return'][data_curr_month.index]\n",
    "    y_pred_test.iloc[data_curr_month.index, i_month-1] = y_pred_curr_month\n",
    "    y_score_test.iloc[data_curr_month.index, i_month-1] = y_score_curr_month"
   ]
  },
  {
   "cell_type": "code",
   "execution_count": null,
   "metadata": {
    "collapsed": true
   },
   "outputs": [],
   "source": [
    "##模型评价\n",
    "#模型评估部分主要计算：训练集、交叉验证集和测试集（ 每月） 的正确率和 AUC。\n",
    "from sklern import metrics\n",
    "print('training set, accuracy = %.2f'%metrics.accuracy_score(y_train,y_pred_trian))\n",
    "print('training set, AUC = %.2f'%metrics.roc_auc_score(y_train,y_score_trian))\n",
    "print('cv set, accuracy = %.2f'%metrics.accuracy_score(y_train,y_pred_cv))\n",
    "print('cv set, AUC = %.2f'%metrics.roc_auc_score(y_train,y_score_cv))\n",
    "\n",
    "# evaluate the testing set by months\n",
    "for i_month in para.month_test:\n",
    "    y_true_curr_month = pd.DataFrame({'return': y_true_test.iloc[:, i_month-1]})\n",
    "    y_pred_curr_month = y_pred_test.iloc[:, i_month-1]\n",
    "    y_score_curr_month = y_score_curr_month = y_score_test.iloc[:,i_month-1]\n",
    "    \n",
    "    #remove nan\n",
    "    y_true_curr_month = y_true_curr_month.dropna(axis = 0)\n",
    "    \n",
    "    #lable data and select the best and worst 30% data\n",
    "    y_curr_month = label_data(y_true_curr_month)['return_bin']\n",
    "    y_pred_curr_month = y_pred_curr_month[y_curr_month.index]\n",
    "    y_score_curr_month = y_score_curr_month[y_curr_month.index]\n",
    "    \n",
    "    print('test set, month %d, accuracy = %.2f'%(i_month, metrics.accuracy_score(y_curr_month, y_pred_curr_month)))\n",
    "    print('test set, month %d, AUC = %.2f'%(i_month, metirc.roc_auc_score(y_curr_month, y_score_curr_month)))\n",
    "    "
   ]
  },
  {
   "cell_type": "code",
   "execution_count": null,
   "metadata": {
    "collapsed": true
   },
   "outputs": [],
   "source": [
    "##策略构建\n",
    "#本模块围绕线性 SVM 模型的预测结果， 构建了一个简单策略：选取每个月最可能涨的 100\n",
    "#只股票， 等权配置资产。 随后计算该策略的收益和净值。\n",
    "# initialize a strategy\n",
    "para.n_stock_select = 100\n",
    "strategy = ps.DataFrame({'return':[0] * para.month_test[-1], \n",
    "                        'value':[1] * para.month_test[-1]})\n",
    "\n",
    "# loop for months\n",
    "for i_month in pata.month_test:\n",
    "    y_true_curr_month = y_true_test.iloc[:, i_month-1]\n",
    "    y_score_curr_month = y_score_test.iloc[:, i_month-1]\n",
    "    \n",
    "    #sort predicted return, and choose the best 100\n",
    "    y_score_curr_month = y_score_curr_month.sort_values(ascending = False)\n",
    "    index_select = y_score_curr_month[0:pata.n_stock_select].index\n",
    "    \n",
    "    #take the average return as the return of the protfolio\n",
    "    strategy.loc[i_month-1, 'return'] = np.mean(y_true_curr_month[index_select])\n",
    "    \n",
    "#compute the compound value of strategy\n",
    "strategy['value'] = (strategy['return'] + 1).cumprod()"
   ]
  },
  {
   "cell_type": "code",
   "execution_count": null,
   "metadata": {
    "collapsed": true
   },
   "outputs": [],
   "source": [
    "##策略评价\n",
    "# plot the value\n",
    "import matplotlib.pyplot as plt\n",
    "plt.plot(para.month_test, strategy.loc[para.month_test,'value'], 'r-')\n",
    "plt.show()\n",
    "\n",
    "# evaluation\n",
    "ann_excess_return = np.mean(strategy.loc[para.month_test, 'return']) * 12\n",
    "ann_excess_vol = np.std(strategy.loc[para.month_test,'return']) * np.sqrt(12)\n",
    "info_ratio = ann_excess_retur/ann_excess_vol\n",
    "\n",
    "#print out \n",
    "print('annual excess return = %.2f'% ann_excess_return)\n",
    "print('annual excess volatility = %.2f'% ann_excess_vol)\n",
    "print('information ratio = %.2f'% info_rario)\n",
    "\n"
   ]
  }
 ],
 "metadata": {
  "kernelspec": {
   "display_name": "Python 3",
   "language": "python",
   "name": "python3"
  },
  "language_info": {
   "codemirror_mode": {
    "name": "ipython",
    "version": 3
   },
   "file_extension": ".py",
   "mimetype": "text/x-python",
   "name": "python",
   "nbconvert_exporter": "python",
   "pygments_lexer": "ipython3",
   "version": "3.6.3"
  }
 },
 "nbformat": 4,
 "nbformat_minor": 2
}
